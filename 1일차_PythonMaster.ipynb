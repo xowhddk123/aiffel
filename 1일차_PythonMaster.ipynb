{
  "nbformat": 4,
  "nbformat_minor": 0,
  "metadata": {
    "colab": {
      "provenance": [],
      "collapsed_sections": [],
      "authorship_tag": "ABX9TyND/24JmeOCPe0sBYVZ62MP",
      "include_colab_link": true
    },
    "kernelspec": {
      "name": "python3",
      "display_name": "Python 3"
    },
    "language_info": {
      "name": "python"
    }
  },
  "cells": [
    {
      "cell_type": "markdown",
      "metadata": {
        "id": "view-in-github",
        "colab_type": "text"
      },
      "source": [
        "<a href=\"https://colab.research.google.com/github/xowhddk123/aiffel/blob/main/1%EC%9D%BC%EC%B0%A8_PythonMaster.ipynb\" target=\"_parent\"><img src=\"https://colab.research.google.com/assets/colab-badge.svg\" alt=\"Open In Colab\"/></a>"
      ]
    },
    {
      "cell_type": "code",
      "execution_count": null,
      "metadata": {
        "colab": {
          "base_uri": "https://localhost:8080/"
        },
        "id": "aqPfIe97F8rY",
        "outputId": "241ca692-8741-4b93-fb95-8f6177c6fa33"
      },
      "outputs": [
        {
          "output_type": "stream",
          "name": "stdout",
          "text": [
            "Hello World!\n"
          ]
        }
      ],
      "source": [
        "print(\"Hello World!\")"
      ]
    },
    {
      "cell_type": "code",
      "source": [
        "# 4.2 주석\n",
        "# 사람이 참고하기 위한 부분을 주석이라고 한다. \n",
        "'''\n",
        "이렇게 여러 줄에 대해서도 \n",
        "주석을 달 수 있다.\n",
        "'''"
      ],
      "metadata": {
        "colab": {
          "base_uri": "https://localhost:8080/",
          "height": 35
        },
        "id": "uyGrz-5TGx2q",
        "outputId": "55814315-8ca9-40fa-9dcd-ae22bd85d4c2"
      },
      "execution_count": null,
      "outputs": [
        {
          "output_type": "execute_result",
          "data": {
            "text/plain": [
              "'\\n이렇게 여러 줄에 대해서도 \\n주석을 달 수 있다.\\n'"
            ],
            "application/vnd.google.colaboratory.intrinsic+json": {
              "type": "string"
            }
          },
          "metadata": {},
          "execution_count": 1
        }
      ]
    },
    {
      "cell_type": "code",
      "source": [
        "for i in range(10):\n",
        "    print(f\"{i}단\")\n",
        "    for j in range(10):\n",
        "      print(i*j, end = \" \")\n",
        "    print(\"\")\n",
        "    print(\"----------------------\")\n"
      ],
      "metadata": {
        "id": "0kKFXKhUGyX_",
        "colab": {
          "base_uri": "https://localhost:8080/"
        },
        "outputId": "c99daa24-e214-4c7c-9a36-f363fc02e4e6"
      },
      "execution_count": null,
      "outputs": [
        {
          "output_type": "stream",
          "name": "stdout",
          "text": [
            "0단\n",
            "0 0 0 0 0 0 0 0 0 0 \n",
            "----------------------\n",
            "1단\n",
            "0 1 2 3 4 5 6 7 8 9 \n",
            "----------------------\n",
            "2단\n",
            "0 2 4 6 8 10 12 14 16 18 \n",
            "----------------------\n",
            "3단\n",
            "0 3 6 9 12 15 18 21 24 27 \n",
            "----------------------\n",
            "4단\n",
            "0 4 8 12 16 20 24 28 32 36 \n",
            "----------------------\n",
            "5단\n",
            "0 5 10 15 20 25 30 35 40 45 \n",
            "----------------------\n",
            "6단\n",
            "0 6 12 18 24 30 36 42 48 54 \n",
            "----------------------\n",
            "7단\n",
            "0 7 14 21 28 35 42 49 56 63 \n",
            "----------------------\n",
            "8단\n",
            "0 8 16 24 32 40 48 56 64 72 \n",
            "----------------------\n",
            "9단\n",
            "0 9 18 27 36 45 54 63 72 81 \n",
            "----------------------\n"
          ]
        }
      ]
    },
    {
      "cell_type": "code",
      "source": [
        "a = 5\n",
        "type(a)"
      ],
      "metadata": {
        "id": "wa5S1hESGyb8",
        "colab": {
          "base_uri": "https://localhost:8080/"
        },
        "outputId": "72f9fbe8-aca7-4c72-fbd9-e156002d16fd"
      },
      "execution_count": null,
      "outputs": [
        {
          "output_type": "execute_result",
          "data": {
            "text/plain": [
              "int"
            ]
          },
          "metadata": {},
          "execution_count": 12
        }
      ]
    },
    {
      "cell_type": "code",
      "source": [
        "b = 5.3\n",
        "type(b)"
      ],
      "metadata": {
        "id": "M-2XgXYfGyfI",
        "colab": {
          "base_uri": "https://localhost:8080/"
        },
        "outputId": "216b8d2a-3653-4aef-9f08-8eee13c4ba1e"
      },
      "execution_count": null,
      "outputs": [
        {
          "output_type": "execute_result",
          "data": {
            "text/plain": [
              "float"
            ]
          },
          "metadata": {},
          "execution_count": 13
        }
      ]
    },
    {
      "cell_type": "code",
      "source": [
        "c = \"안녕하세요\"\n",
        "type(c)"
      ],
      "metadata": {
        "id": "MfCkRsHlGyiR",
        "colab": {
          "base_uri": "https://localhost:8080/"
        },
        "outputId": "8b0e60c9-c0f1-4db5-a526-edb9011a349c"
      },
      "execution_count": null,
      "outputs": [
        {
          "output_type": "execute_result",
          "data": {
            "text/plain": [
              "str"
            ]
          },
          "metadata": {},
          "execution_count": 14
        }
      ]
    },
    {
      "cell_type": "code",
      "source": [
        "d = \"f\"\n",
        "type(d)"
      ],
      "metadata": {
        "id": "5sv3jPtsGylt",
        "colab": {
          "base_uri": "https://localhost:8080/"
        },
        "outputId": "e8f7a446-ed44-41e2-fd9f-d19569859012"
      },
      "execution_count": null,
      "outputs": [
        {
          "output_type": "execute_result",
          "data": {
            "text/plain": [
              "str"
            ]
          },
          "metadata": {},
          "execution_count": 15
        }
      ]
    },
    {
      "cell_type": "code",
      "source": [
        "b = \"5\"\n",
        "c = \"4\"\n",
        "b+c"
      ],
      "metadata": {
        "id": "Qn0NJWWdGyom",
        "colab": {
          "base_uri": "https://localhost:8080/",
          "height": 35
        },
        "outputId": "0ead0701-2ef5-4103-efb2-dc0b8657034a"
      },
      "execution_count": null,
      "outputs": [
        {
          "output_type": "execute_result",
          "data": {
            "text/plain": [
              "'54'"
            ],
            "application/vnd.google.colaboratory.intrinsic+json": {
              "type": "string"
            }
          },
          "metadata": {},
          "execution_count": 16
        }
      ]
    },
    {
      "cell_type": "code",
      "source": [
        "b = int(b)\n",
        "type(b)"
      ],
      "metadata": {
        "colab": {
          "base_uri": "https://localhost:8080/"
        },
        "id": "x_kxW7R9NTkF",
        "outputId": "af91d325-f3d6-4112-97ee-e0c23b162008"
      },
      "execution_count": null,
      "outputs": [
        {
          "output_type": "execute_result",
          "data": {
            "text/plain": [
              "int"
            ]
          },
          "metadata": {},
          "execution_count": 19
        }
      ]
    },
    {
      "cell_type": "code",
      "source": [
        "c = int(c)\n",
        "b + c"
      ],
      "metadata": {
        "id": "EzoPnFdbGyrl",
        "colab": {
          "base_uri": "https://localhost:8080/"
        },
        "outputId": "35669ff8-2f8d-4fba-b70f-a92e724c4599"
      },
      "execution_count": null,
      "outputs": [
        {
          "output_type": "execute_result",
          "data": {
            "text/plain": [
              "9"
            ]
          },
          "metadata": {},
          "execution_count": 22
        }
      ]
    },
    {
      "cell_type": "code",
      "source": [
        "print(5//2)\n",
        "print(5%2)\n",
        "a, b = divmod(5,2)\n",
        "print(a,b)"
      ],
      "metadata": {
        "id": "Y51QwRZfGyuj",
        "colab": {
          "base_uri": "https://localhost:8080/"
        },
        "outputId": "3395d883-ea6f-42b3-99e6-5dd9ac4eb540"
      },
      "execution_count": null,
      "outputs": [
        {
          "output_type": "stream",
          "name": "stdout",
          "text": [
            "2\n",
            "1\n",
            "2 1\n"
          ]
        }
      ]
    },
    {
      "cell_type": "code",
      "source": [
        "# Over Flow : 숫자가 너무 커서 메모리가 부족한 경우\n",
        "# Under Flow : 숫자가 너무 작아서 메모리가 부족한 경우"
      ],
      "metadata": {
        "id": "3b1dCDUPPOg_"
      },
      "execution_count": null,
      "outputs": []
    },
    {
      "cell_type": "code",
      "source": [
        "print(35+1*2)\n",
        "print((35+1)*2)"
      ],
      "metadata": {
        "colab": {
          "base_uri": "https://localhost:8080/"
        },
        "id": "V2MXECDtQad1",
        "outputId": "511a3468-fa8f-45a8-c034-3cc9df7c5fbc"
      },
      "execution_count": null,
      "outputs": [
        {
          "output_type": "stream",
          "name": "stdout",
          "text": [
            "37\n",
            "72\n"
          ]
        }
      ]
    },
    {
      "cell_type": "code",
      "source": [
        "a = 12\n",
        "print(int(0.2467 * a + 4.159))"
      ],
      "metadata": {
        "colab": {
          "base_uri": "https://localhost:8080/"
        },
        "id": "1ASyYdhpQarP",
        "outputId": "dd327172-0b16-4fb9-ee4c-640cafa5ca8a"
      },
      "execution_count": null,
      "outputs": [
        {
          "output_type": "stream",
          "name": "stdout",
          "text": [
            "7\n"
          ]
        }
      ]
    },
    {
      "cell_type": "code",
      "source": [
        "x, y, z = 10,20,30\n",
        "print(x, y, z)"
      ],
      "metadata": {
        "colab": {
          "base_uri": "https://localhost:8080/"
        },
        "id": "m_ST6TezQa3x",
        "outputId": "82434f46-ed46-4240-d9da-c25a66389e4b"
      },
      "execution_count": null,
      "outputs": [
        {
          "output_type": "stream",
          "name": "stdout",
          "text": [
            "10 20 30\n"
          ]
        }
      ]
    },
    {
      "cell_type": "code",
      "source": [
        "x, y, z = 10,20, 30, 40\n",
        "# print(x, y)"
      ],
      "metadata": {
        "colab": {
          "base_uri": "https://localhost:8080/",
          "height": 189
        },
        "id": "QntD1-hNQa7e",
        "outputId": "3f4b7df3-1c83-416d-fc84-2b92330688f5"
      },
      "execution_count": null,
      "outputs": [
        {
          "output_type": "error",
          "ename": "ValueError",
          "evalue": "ignored",
          "traceback": [
            "\u001b[0;31m---------------------------------------------------------------------------\u001b[0m",
            "\u001b[0;31mValueError\u001b[0m                                Traceback (most recent call last)",
            "\u001b[0;32m<ipython-input-43-d3107d7cdfc9>\u001b[0m in \u001b[0;36m<module>\u001b[0;34m\u001b[0m\n\u001b[0;32m----> 1\u001b[0;31m \u001b[0mx\u001b[0m\u001b[0;34m,\u001b[0m \u001b[0my\u001b[0m\u001b[0;34m,\u001b[0m \u001b[0mz\u001b[0m \u001b[0;34m=\u001b[0m \u001b[0;36m10\u001b[0m\u001b[0;34m,\u001b[0m\u001b[0;36m20\u001b[0m\u001b[0;34m,\u001b[0m \u001b[0;36m30\u001b[0m\u001b[0;34m,\u001b[0m \u001b[0;36m40\u001b[0m\u001b[0;34m\u001b[0m\u001b[0;34m\u001b[0m\u001b[0m\n\u001b[0m\u001b[1;32m      2\u001b[0m \u001b[0;31m# print(x, y)\u001b[0m\u001b[0;34m\u001b[0m\u001b[0;34m\u001b[0m\u001b[0;34m\u001b[0m\u001b[0m\n",
            "\u001b[0;31mValueError\u001b[0m: too many values to unpack (expected 3)"
          ]
        }
      ]
    },
    {
      "cell_type": "code",
      "source": [
        "a = 10\n",
        "a += 10\n",
        "a"
      ],
      "metadata": {
        "colab": {
          "base_uri": "https://localhost:8080/"
        },
        "id": "PBdNVBeLQa-s",
        "outputId": "82051a4c-eb4b-4693-feca-4aafa882ef13"
      },
      "execution_count": null,
      "outputs": [
        {
          "output_type": "execute_result",
          "data": {
            "text/plain": [
              "20"
            ]
          },
          "metadata": {},
          "execution_count": 45
        }
      ]
    },
    {
      "cell_type": "code",
      "source": [
        "a = 0 \n",
        "print(a)\n",
        "\n",
        "for _ in range(10):\n",
        "  a +=1\n",
        "  print(a)"
      ],
      "metadata": {
        "colab": {
          "base_uri": "https://localhost:8080/"
        },
        "id": "Pag27nJUQbB_",
        "outputId": "daf649e8-d3a0-4888-e5c0-da75edfbfd57"
      },
      "execution_count": null,
      "outputs": [
        {
          "output_type": "stream",
          "name": "stdout",
          "text": [
            "0\n",
            "1\n",
            "2\n",
            "3\n",
            "4\n",
            "5\n",
            "6\n",
            "7\n",
            "8\n",
            "9\n",
            "10\n"
          ]
        }
      ]
    },
    {
      "cell_type": "code",
      "source": [
        "a = 1 \n",
        "print(a)\n",
        "\n",
        "for _ in range(5):\n",
        "  a *=2\n",
        "  print(a)"
      ],
      "metadata": {
        "colab": {
          "base_uri": "https://localhost:8080/"
        },
        "id": "hA_LTy4WQbE8",
        "outputId": "57c0b8da-4224-47fa-9e01-e938a54f0d6b"
      },
      "execution_count": null,
      "outputs": [
        {
          "output_type": "stream",
          "name": "stdout",
          "text": [
            "1\n",
            "2\n",
            "4\n",
            "8\n",
            "16\n",
            "32\n"
          ]
        }
      ]
    },
    {
      "cell_type": "code",
      "source": [
        "a = int(input(\"아무 정수를 입력해줘 : \"))\n",
        "print(a)"
      ],
      "metadata": {
        "colab": {
          "base_uri": "https://localhost:8080/"
        },
        "id": "icJDaVdmW6GV",
        "outputId": "3626a77b-ba5d-4aad-c297-846fc3565bf4"
      },
      "execution_count": null,
      "outputs": [
        {
          "output_type": "stream",
          "name": "stdout",
          "text": [
            "아무 정수를 입력해줘 : 45\n",
            "45\n"
          ]
        }
      ]
    },
    {
      "cell_type": "code",
      "source": [
        "type(a)"
      ],
      "metadata": {
        "colab": {
          "base_uri": "https://localhost:8080/"
        },
        "id": "374vL3WLW6ED",
        "outputId": "fc7a1214-f337-4087-99d7-86cc7e4ea751"
      },
      "execution_count": null,
      "outputs": [
        {
          "output_type": "execute_result",
          "data": {
            "text/plain": [
              "int"
            ]
          },
          "metadata": {},
          "execution_count": 61
        }
      ]
    },
    {
      "cell_type": "code",
      "source": [
        "# help(int)\n",
        "help(input)"
      ],
      "metadata": {
        "colab": {
          "base_uri": "https://localhost:8080/"
        },
        "id": "pMFfHU1mW6BX",
        "outputId": "d6a3bde1-2215-4340-807c-c5dd6a0d7d31"
      },
      "execution_count": null,
      "outputs": [
        {
          "output_type": "stream",
          "name": "stdout",
          "text": [
            "Help on method raw_input in module ipykernel.kernelbase:\n",
            "\n",
            "raw_input(prompt='') method of google.colab._kernel.Kernel instance\n",
            "    Forward raw_input to frontends\n",
            "    \n",
            "    Raises\n",
            "    ------\n",
            "    StdinNotImplentedError if active frontend doesn't support stdin.\n",
            "\n"
          ]
        }
      ]
    },
    {
      "cell_type": "code",
      "source": [
        "# str로 더하기\n",
        "a = input(\"십의자리 숫지를 입력하세요\")\n",
        "b = input(\"일의자리 숫지를 입력하세요\")\n",
        "# a, b = int(a), int(b)\n",
        "\n",
        "\n",
        "print(a+b)"
      ],
      "metadata": {
        "colab": {
          "base_uri": "https://localhost:8080/"
        },
        "id": "mQsjUJJ6W5-2",
        "outputId": "f8d351a5-7c9a-4925-b793-998055b8bb12"
      },
      "execution_count": null,
      "outputs": [
        {
          "output_type": "stream",
          "name": "stdout",
          "text": [
            "십의자리 숫지를 입력하세요4\n",
            "일의자리 숫지를 입력하세요5\n",
            "45\n"
          ]
        }
      ]
    },
    {
      "cell_type": "code",
      "source": [
        "# int로 더하기\n",
        "a = input(\"첫 번째 숫지를 입력하세요\")\n",
        "b = input(\"두 번째 숫지를 입력하세요\")\n",
        "a, b = int(a), int(b)\n",
        "\n",
        "\n",
        "print(a+b)"
      ],
      "metadata": {
        "colab": {
          "base_uri": "https://localhost:8080/"
        },
        "id": "9lPBSn3eW58M",
        "outputId": "3e88e440-9f3d-4e8b-a537-71209be8af70"
      },
      "execution_count": null,
      "outputs": [
        {
          "output_type": "stream",
          "name": "stdout",
          "text": [
            "첫 번째 숫지를 입력하세요4\n",
            "두 번째 숫지를 입력하세요5\n",
            "9\n"
          ]
        }
      ]
    },
    {
      "cell_type": "code",
      "source": [
        "a, b = input(\"숫자를 두 개를 입력하시오\").split(sep = \"/\")\n",
        "# print(a + b)\n",
        "print(a)\n",
        "print(b)"
      ],
      "metadata": {
        "colab": {
          "base_uri": "https://localhost:8080/"
        },
        "id": "rzXdTQJQW55S",
        "outputId": "7febac0b-fb1e-44b1-a86b-8ae01d7068a5"
      },
      "execution_count": null,
      "outputs": [
        {
          "output_type": "stream",
          "name": "stdout",
          "text": [
            "숫자를 두 개를 입력하시오4/5\n",
            "4\n",
            "5\n"
          ]
        }
      ]
    },
    {
      "cell_type": "code",
      "source": [
        "a, b = map(int, input(\"숫자를 두 개를 입력하시오\").split(\" \"))\n",
        "print(a + b)"
      ],
      "metadata": {
        "colab": {
          "base_uri": "https://localhost:8080/"
        },
        "id": "DCTrbukiW5uk",
        "outputId": "bc44986c-8776-41ec-ad95-2fa2e851b8bb"
      },
      "execution_count": null,
      "outputs": [
        {
          "output_type": "stream",
          "name": "stdout",
          "text": [
            "숫자를 두 개를 입력하시오4 5\n",
            "9\n"
          ]
        }
      ]
    },
    {
      "cell_type": "code",
      "source": [
        "help(map)"
      ],
      "metadata": {
        "colab": {
          "base_uri": "https://localhost:8080/"
        },
        "id": "aPkI6An8QbH1",
        "outputId": "0354faa9-6229-4d97-a299-e9c76dcb57d6"
      },
      "execution_count": null,
      "outputs": [
        {
          "output_type": "stream",
          "name": "stdout",
          "text": [
            "Help on class map in module builtins:\n",
            "\n",
            "class map(object)\n",
            " |  map(func, *iterables) --> map object\n",
            " |  \n",
            " |  Make an iterator that computes the function using arguments from\n",
            " |  each of the iterables.  Stops when the shortest iterable is exhausted.\n",
            " |  \n",
            " |  Methods defined here:\n",
            " |  \n",
            " |  __getattribute__(self, name, /)\n",
            " |      Return getattr(self, name).\n",
            " |  \n",
            " |  __iter__(self, /)\n",
            " |      Implement iter(self).\n",
            " |  \n",
            " |  __next__(self, /)\n",
            " |      Implement next(self).\n",
            " |  \n",
            " |  __reduce__(...)\n",
            " |      Return state information for pickling.\n",
            " |  \n",
            " |  ----------------------------------------------------------------------\n",
            " |  Static methods defined here:\n",
            " |  \n",
            " |  __new__(*args, **kwargs) from builtins.type\n",
            " |      Create and return a new object.  See help(type) for accurate signature.\n",
            "\n"
          ]
        }
      ]
    },
    {
      "cell_type": "code",
      "source": [
        "print(type(a))\n",
        "print(type(b))"
      ],
      "metadata": {
        "colab": {
          "base_uri": "https://localhost:8080/"
        },
        "id": "yuHM93bGc_jJ",
        "outputId": "ce29cdf4-5766-44c1-8651-f4abcade025c"
      },
      "execution_count": null,
      "outputs": [
        {
          "output_type": "stream",
          "name": "stdout",
          "text": [
            "<class 'int'>\n",
            "<class 'int'>\n"
          ]
        }
      ]
    },
    {
      "cell_type": "code",
      "source": [
        "# 다음 소스 코드를 완성하여 정수 세 개를 입력받고 합계가 출력되게 만드세요.\n",
        "\n",
        "## -10 20 30 (입력)\n",
        "\n",
        "a,b,c = map(int, input(\"정수 세 개를 띄어 쓰기로 입력하세요 : \").split())\n",
        "\n",
        "print((a+b+c))"
      ],
      "metadata": {
        "colab": {
          "base_uri": "https://localhost:8080/"
        },
        "id": "Ru786m4Zdgos",
        "outputId": "2b4b5941-7201-4b4e-8e39-0f7d7e7a1c46"
      },
      "execution_count": null,
      "outputs": [
        {
          "output_type": "stream",
          "name": "stdout",
          "text": [
            "정수 세 개를 띄어쓰기로 입력하세요 : -10 20 30\n",
            "40\n"
          ]
        }
      ]
    },
    {
      "cell_type": "code",
      "source": [
        "True == False +1"
      ],
      "metadata": {
        "colab": {
          "base_uri": "https://localhost:8080/"
        },
        "id": "uSvMX7aXc4Nh",
        "outputId": "fa04a91c-df72-4abf-baad-8689e7aa3f0f"
      },
      "execution_count": null,
      "outputs": [
        {
          "output_type": "execute_result",
          "data": {
            "text/plain": [
              "True"
            ]
          },
          "metadata": {},
          "execution_count": 90
        }
      ]
    },
    {
      "cell_type": "code",
      "source": [
        "val = True\n",
        "i = 0\n",
        "while val:\n",
        "    if i > 10:\n",
        "        val -=1\n",
        "    else:\n",
        "        print(i)\n",
        "        i +=1"
      ],
      "metadata": {
        "colab": {
          "base_uri": "https://localhost:8080/"
        },
        "id": "LHR2tDStc5Bo",
        "outputId": "6137632a-f271-46d9-c31a-9bfb6182f1d4"
      },
      "execution_count": null,
      "outputs": [
        {
          "output_type": "stream",
          "name": "stdout",
          "text": [
            "0\n",
            "1\n",
            "2\n",
            "3\n",
            "4\n",
            "5\n",
            "6\n",
            "7\n",
            "8\n",
            "9\n",
            "10\n"
          ]
        }
      ]
    },
    {
      "cell_type": "code",
      "source": [
        "a = [15]\n",
        "b = a\n",
        "a = [20]\n",
        "b"
      ],
      "metadata": {
        "colab": {
          "base_uri": "https://localhost:8080/"
        },
        "id": "gq8OfRe4iWRz",
        "outputId": "956259b8-288e-4448-b011-fd55a9a827af"
      },
      "execution_count": null,
      "outputs": [
        {
          "output_type": "execute_result",
          "data": {
            "text/plain": [
              "[15]"
            ]
          },
          "metadata": {},
          "execution_count": 102
        }
      ]
    },
    {
      "cell_type": "code",
      "source": [
        "True and True"
      ],
      "metadata": {
        "colab": {
          "base_uri": "https://localhost:8080/"
        },
        "id": "4MxIk6SSc5Fy",
        "outputId": "5609208c-1177-4838-9024-a39a6fba1666"
      },
      "execution_count": null,
      "outputs": [
        {
          "output_type": "execute_result",
          "data": {
            "text/plain": [
              "True"
            ]
          },
          "metadata": {},
          "execution_count": 107
        }
      ]
    },
    {
      "cell_type": "code",
      "source": [
        "True and False"
      ],
      "metadata": {
        "colab": {
          "base_uri": "https://localhost:8080/"
        },
        "id": "qf-vyKWWc5Jo",
        "outputId": "0b2260b1-9266-4b96-fc0d-428ce118b857"
      },
      "execution_count": null,
      "outputs": [
        {
          "output_type": "execute_result",
          "data": {
            "text/plain": [
              "False"
            ]
          },
          "metadata": {},
          "execution_count": 108
        }
      ]
    },
    {
      "cell_type": "code",
      "source": [
        "False and False"
      ],
      "metadata": {
        "colab": {
          "base_uri": "https://localhost:8080/"
        },
        "id": "ieSw5E1rc5Nc",
        "outputId": "566a42f0-3a79-4bc9-859f-a7ced6cf0ed1"
      },
      "execution_count": null,
      "outputs": [
        {
          "output_type": "execute_result",
          "data": {
            "text/plain": [
              "False"
            ]
          },
          "metadata": {},
          "execution_count": 109
        }
      ]
    },
    {
      "cell_type": "code",
      "source": [
        "True or False"
      ],
      "metadata": {
        "colab": {
          "base_uri": "https://localhost:8080/"
        },
        "id": "RFrbJz94c5RW",
        "outputId": "9436e7b4-c859-4b9b-e9ac-d99324f8b2b4"
      },
      "execution_count": null,
      "outputs": [
        {
          "output_type": "execute_result",
          "data": {
            "text/plain": [
              "True"
            ]
          },
          "metadata": {},
          "execution_count": 113
        }
      ]
    },
    {
      "cell_type": "code",
      "source": [
        "math = 75\n",
        "eng = 70\n",
        "# math, eng = map(int, input(\"수학점수와 영어점수를 입력해주세요 : \").split())\n",
        "\n",
        "if math >= 75 and eng >= 75:\n",
        "    print(\"합격했습니다\")\n",
        "else : \n",
        "    print(\"불합격했습니다\")"
      ],
      "metadata": {
        "colab": {
          "base_uri": "https://localhost:8080/"
        },
        "id": "l1d1a76oc5VB",
        "outputId": "d048bb54-f60e-45af-d8f6-c2be8cd330fc"
      },
      "execution_count": null,
      "outputs": [
        {
          "output_type": "stream",
          "name": "stdout",
          "text": [
            "탈락했습니다\n"
          ]
        }
      ]
    },
    {
      "cell_type": "code",
      "source": [
        "year, month, day = input(\"Enter dates : \").split(\",\")\n",
        "print(day, month, year, sep = \"/\")"
      ],
      "metadata": {
        "colab": {
          "base_uri": "https://localhost:8080/"
        },
        "id": "VcOXnMiqc5ZL",
        "outputId": "41812067-a549-4a10-af1a-d5889e073e23"
      },
      "execution_count": null,
      "outputs": [
        {
          "output_type": "stream",
          "name": "stdout",
          "text": [
            "Enter dates : 2022,08,23\n",
            "23/08/2022\n"
          ]
        }
      ]
    },
    {
      "cell_type": "code",
      "source": [
        "hello = '''Hello, world!\n",
        "안녕하세요.\n",
        "Python입니다.'''"
      ],
      "metadata": {
        "id": "Ck4GHnf-c5da"
      },
      "execution_count": null,
      "outputs": []
    },
    {
      "cell_type": "code",
      "source": [
        "print(hello)"
      ],
      "metadata": {
        "colab": {
          "base_uri": "https://localhost:8080/"
        },
        "id": "--DpnzN1z5If",
        "outputId": "ea00d0d4-becf-47e1-90ce-a155d29b995e"
      },
      "execution_count": null,
      "outputs": [
        {
          "output_type": "stream",
          "name": "stdout",
          "text": [
            "Hello, world!\n",
            "안녕하세요.\n",
            "Python입니다.\n"
          ]
        }
      ]
    },
    {
      "cell_type": "code",
      "source": [
        "\"python isn\\'t difficult\""
      ],
      "metadata": {
        "colab": {
          "base_uri": "https://localhost:8080/",
          "height": 35
        },
        "id": "ATwqvF9p0mp6",
        "outputId": "f76b7b0d-2a78-4744-8fc2-b4fed2aa1fce"
      },
      "execution_count": null,
      "outputs": [
        {
          "output_type": "execute_result",
          "data": {
            "text/plain": [
              "\"python isn't difficult\""
            ],
            "application/vnd.google.colaboratory.intrinsic+json": {
              "type": "string"
            }
          },
          "metadata": {},
          "execution_count": 126
        }
      ]
    },
    {
      "cell_type": "code",
      "source": [
        "s = '''Python is a programming language that lets you work quickly\n",
        "and\n",
        "integrate systems more effectively.'''\n",
        "print(s)"
      ],
      "metadata": {
        "colab": {
          "base_uri": "https://localhost:8080/"
        },
        "id": "1WB9UQQ50nF8",
        "outputId": "e8f96fd6-e34e-4e01-8351-50d8b558df30"
      },
      "execution_count": null,
      "outputs": [
        {
          "output_type": "stream",
          "name": "stdout",
          "text": [
            "Python is a programming language that lets you work quickly\n",
            "and\n",
            "integrate systems more effectively.\n"
          ]
        }
      ]
    },
    {
      "cell_type": "code",
      "source": [
        "lst = [i for i in range(2, 20, 3)]\n",
        "lst"
      ],
      "metadata": {
        "colab": {
          "base_uri": "https://localhost:8080/"
        },
        "id": "YOyEHWie0nJZ",
        "outputId": "993784d9-8462-4353-fc70-7aee3a22f025"
      },
      "execution_count": null,
      "outputs": [
        {
          "output_type": "execute_result",
          "data": {
            "text/plain": [
              "[2, 5, 8, 11, 14, 17]"
            ]
          },
          "metadata": {},
          "execution_count": 137
        }
      ]
    },
    {
      "cell_type": "code",
      "source": [
        "for i in range(2,20,3):\n",
        "    print(i)"
      ],
      "metadata": {
        "colab": {
          "base_uri": "https://localhost:8080/"
        },
        "id": "6QU8tsuJ0nMS",
        "outputId": "7fc60087-1f1a-465c-a52e-32999b328729"
      },
      "execution_count": null,
      "outputs": [
        {
          "output_type": "stream",
          "name": "stdout",
          "text": [
            "2\n",
            "5\n",
            "8\n",
            "11\n",
            "14\n",
            "17\n"
          ]
        }
      ]
    },
    {
      "cell_type": "code",
      "source": [
        "dir(list)"
      ],
      "metadata": {
        "colab": {
          "base_uri": "https://localhost:8080/"
        },
        "id": "S3StfTTM9mrY",
        "outputId": "e02da582-6b36-4b3e-d8d7-2c611157690e"
      },
      "execution_count": null,
      "outputs": [
        {
          "output_type": "execute_result",
          "data": {
            "text/plain": [
              "['__add__',\n",
              " '__class__',\n",
              " '__contains__',\n",
              " '__delattr__',\n",
              " '__delitem__',\n",
              " '__dir__',\n",
              " '__doc__',\n",
              " '__eq__',\n",
              " '__format__',\n",
              " '__ge__',\n",
              " '__getattribute__',\n",
              " '__getitem__',\n",
              " '__gt__',\n",
              " '__hash__',\n",
              " '__iadd__',\n",
              " '__imul__',\n",
              " '__init__',\n",
              " '__init_subclass__',\n",
              " '__iter__',\n",
              " '__le__',\n",
              " '__len__',\n",
              " '__lt__',\n",
              " '__mul__',\n",
              " '__ne__',\n",
              " '__new__',\n",
              " '__reduce__',\n",
              " '__reduce_ex__',\n",
              " '__repr__',\n",
              " '__reversed__',\n",
              " '__rmul__',\n",
              " '__setattr__',\n",
              " '__setitem__',\n",
              " '__sizeof__',\n",
              " '__str__',\n",
              " '__subclasshook__',\n",
              " 'append',\n",
              " 'clear',\n",
              " 'copy',\n",
              " 'count',\n",
              " 'extend',\n",
              " 'index',\n",
              " 'insert',\n",
              " 'pop',\n",
              " 'remove',\n",
              " 'reverse',\n",
              " 'sort']"
            ]
          },
          "metadata": {},
          "execution_count": 159
        }
      ]
    },
    {
      "cell_type": "code",
      "source": [
        "# 5, 3, 1, -1, -3, -5, -7, -9 출력\n",
        "lst = [i for i in range(5,-10,-2)]\n",
        "print(lst)"
      ],
      "metadata": {
        "colab": {
          "base_uri": "https://localhost:8080/"
        },
        "id": "VlElUqlF0nP0",
        "outputId": "01569d59-39df-4478-8ef3-69aef9ec4691"
      },
      "execution_count": null,
      "outputs": [
        {
          "output_type": "stream",
          "name": "stdout",
          "text": [
            "[5, 3, 1, -1, -3, -5, -7, -9]\n"
          ]
        }
      ]
    },
    {
      "cell_type": "code",
      "source": [
        "# [10,8,6,4,2]\n",
        "a = list(range(10,1,-2))\n",
        "a"
      ],
      "metadata": {
        "colab": {
          "base_uri": "https://localhost:8080/"
        },
        "id": "kXWFQX6l5ZS3",
        "outputId": "fb371ba6-3080-434a-8881-980a0b0c81be"
      },
      "execution_count": null,
      "outputs": [
        {
          "output_type": "execute_result",
          "data": {
            "text/plain": [
              "[10, 8, 6, 4, 2]"
            ]
          },
          "metadata": {},
          "execution_count": 161
        }
      ]
    },
    {
      "cell_type": "code",
      "source": [
        "lst = [1,2,3,4]\n",
        "lst2 = [5,6,7,8]\n",
        "lst.extend(lst2)"
      ],
      "metadata": {
        "id": "0VxULEHc8Ea7"
      },
      "execution_count": null,
      "outputs": []
    },
    {
      "cell_type": "code",
      "source": [
        "lst"
      ],
      "metadata": {
        "colab": {
          "base_uri": "https://localhost:8080/"
        },
        "id": "0TPBcZVP8arZ",
        "outputId": "0abf9e16-96a8-47d9-e40c-1773b7548aed"
      },
      "execution_count": null,
      "outputs": [
        {
          "output_type": "execute_result",
          "data": {
            "text/plain": [
              "[1, 2, 3, 4, 5, 6, 7, 8]"
            ]
          },
          "metadata": {},
          "execution_count": 163
        }
      ]
    },
    {
      "cell_type": "code",
      "source": [
        "lst.insert(5,0)\n",
        "lst"
      ],
      "metadata": {
        "colab": {
          "base_uri": "https://localhost:8080/"
        },
        "id": "qIR31hOk8mNV",
        "outputId": "92bf7d5a-39b6-4ece-f53c-a6749ae697ab"
      },
      "execution_count": null,
      "outputs": [
        {
          "output_type": "execute_result",
          "data": {
            "text/plain": [
              "[1, 2, 3, 4, 5, 0, 6, 7, 8]"
            ]
          },
          "metadata": {},
          "execution_count": 164
        }
      ]
    },
    {
      "cell_type": "code",
      "source": [
        "for _ in range(len(lst)):\n",
        "    out = lst.pop()\n",
        "    print(lst, out)\n",
        "    # print(out)"
      ],
      "metadata": {
        "colab": {
          "base_uri": "https://localhost:8080/"
        },
        "id": "PR23OgG68uCF",
        "outputId": "dc61847b-6b65-4232-aea0-45376619c0f2"
      },
      "execution_count": null,
      "outputs": [
        {
          "output_type": "stream",
          "name": "stdout",
          "text": [
            "[1, 2, 3, 4, 5, 0, 6, 7] 8\n",
            "[1, 2, 3, 4, 5, 0, 6] 7\n",
            "[1, 2, 3, 4, 5, 0] 6\n",
            "[1, 2, 3, 4, 5] 0\n",
            "[1, 2, 3, 4] 5\n",
            "[1, 2, 3] 4\n",
            "[1, 2] 3\n",
            "[1] 2\n",
            "[] 1\n"
          ]
        }
      ]
    },
    {
      "cell_type": "code",
      "source": [
        "lst = [1, 3, 2, 5, 4, 6, 7, 8]"
      ],
      "metadata": {
        "id": "GAtfTLgu9gQU"
      },
      "execution_count": null,
      "outputs": []
    },
    {
      "cell_type": "code",
      "source": [
        "sorted(lst)"
      ],
      "metadata": {
        "colab": {
          "base_uri": "https://localhost:8080/"
        },
        "id": "MK_o-sGg-OkA",
        "outputId": "d3c45337-8110-4247-a0f3-ba53a7e302b6"
      },
      "execution_count": null,
      "outputs": [
        {
          "output_type": "execute_result",
          "data": {
            "text/plain": [
              "[1, 2, 3, 4, 5, 6, 7, 8]"
            ]
          },
          "metadata": {},
          "execution_count": 174
        }
      ]
    },
    {
      "cell_type": "code",
      "source": [
        "lst"
      ],
      "metadata": {
        "colab": {
          "base_uri": "https://localhost:8080/"
        },
        "id": "jXc2XW2o-XEl",
        "outputId": "ade7d3ae-afce-4bb9-ce01-733c4461859e"
      },
      "execution_count": null,
      "outputs": [
        {
          "output_type": "execute_result",
          "data": {
            "text/plain": [
              "[1, 3, 2, 5, 4, 6, 7, 8]"
            ]
          },
          "metadata": {},
          "execution_count": 175
        }
      ]
    },
    {
      "cell_type": "code",
      "source": [
        "lst.sort()"
      ],
      "metadata": {
        "id": "X9GxKA-y-XzE"
      },
      "execution_count": null,
      "outputs": []
    },
    {
      "cell_type": "code",
      "source": [
        "lst"
      ],
      "metadata": {
        "colab": {
          "base_uri": "https://localhost:8080/"
        },
        "id": "Mx3pFAuZ-mdV",
        "outputId": "8f22e03a-1065-4cab-ccb2-e660b2ba70a7"
      },
      "execution_count": null,
      "outputs": [
        {
          "output_type": "execute_result",
          "data": {
            "text/plain": [
              "[1, 2, 3, 4, 5, 6, 7, 8]"
            ]
          },
          "metadata": {},
          "execution_count": 177
        }
      ]
    },
    {
      "cell_type": "code",
      "source": [
        "lst.sort(reverse = True)"
      ],
      "metadata": {
        "id": "FFF7_TnH-m8z"
      },
      "execution_count": null,
      "outputs": []
    },
    {
      "cell_type": "code",
      "source": [
        "lst"
      ],
      "metadata": {
        "colab": {
          "base_uri": "https://localhost:8080/"
        },
        "id": "flWeJco_-tLR",
        "outputId": "89e5cf45-35d5-4094-e6c4-acc12a1c6dcd"
      },
      "execution_count": null,
      "outputs": [
        {
          "output_type": "execute_result",
          "data": {
            "text/plain": [
              "[8, 7, 6, 5, 4, 3, 2, 1]"
            ]
          },
          "metadata": {},
          "execution_count": 180
        }
      ]
    },
    {
      "cell_type": "code",
      "source": [
        "help(list.pop)"
      ],
      "metadata": {
        "colab": {
          "base_uri": "https://localhost:8080/"
        },
        "id": "FsGUIIxt-t7Y",
        "outputId": "062c8923-6eb7-4831-f635-ab31c9897d91"
      },
      "execution_count": null,
      "outputs": [
        {
          "output_type": "stream",
          "name": "stdout",
          "text": [
            "Help on method_descriptor:\n",
            "\n",
            "pop(self, index=-1, /)\n",
            "    Remove and return item at index (default last).\n",
            "    \n",
            "    Raises IndexError if list is empty or index is out of range.\n",
            "\n"
          ]
        }
      ]
    }
  ]
}